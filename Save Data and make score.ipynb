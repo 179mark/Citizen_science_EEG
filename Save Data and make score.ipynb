{
 "cells": [
  {
   "cell_type": "code",
   "execution_count": 8,
   "metadata": {},
   "outputs": [],
   "source": [
    "import types\n",
    "import tempfile\n",
    "import keras.models\n",
    "import mne as mn\n",
    "from sklearn.metrics import mean_squared_error"
   ]
  },
  {
   "cell_type": "code",
   "execution_count": 9,
   "metadata": {
    "collapsed": true
   },
   "outputs": [],
   "source": [
    "def make_keras_picklable():\n",
    "    def __getstate__(self):\n",
    "        model_str = \"\"\n",
    "        with tempfile.NamedTemporaryFile(suffix='.hdf5', delete=True) as fd:\n",
    "            keras.models.save_model(self, fd.name, overwrite=True)\n",
    "            model_str = fd.read()\n",
    "        d = { 'model_str': model_str }\n",
    "        return d\n",
    "\n",
    "    def __setstate__(self, state):\n",
    "        with tempfile.NamedTemporaryFile(suffix='.hdf5', delete=True) as fd:\n",
    "            fd.write(state['model_str'])\n",
    "            fd.flush()\n",
    "            model = keras.models.load_model(fd.name)\n",
    "        self.__dict__ = model.__dict__\n",
    "\n",
    "\n",
    "    cls = keras.models.Model\n",
    "    cls.__getstate__ = __getstate__\n",
    "    cls.__setstate__ = __setstate__"
   ]
  },
  {
   "cell_type": "markdown",
   "metadata": {},
   "source": [
    "Сохранение данных с помощью pickle. encoder и decoder это ваши обученные модели"
   ]
  },
  {
   "cell_type": "code",
   "execution_count": null,
   "metadata": {
    "collapsed": true
   },
   "outputs": [],
   "source": [
    "make_keras_picklable()\n",
    "pickle.dump(encoder, open(\"encoder.p\", \"wb\"))\n",
    "pickle.dump(decoder, open(\"decoder.p\", \"wb\"))"
   ]
  },
  {
   "cell_type": "markdown",
   "metadata": {},
   "source": [
    "Загрузка данных и вычисление score. something - это ваш код, который как-то возможно меняет данные, например транспонирует или добавляет новые координаты, главное чтобы после encodera, данные были в формате $(n \\times m)$, коэффицент будет вычисляться по параметру $m$"
   ]
  },
  {
   "cell_type": "code",
   "execution_count": null,
   "metadata": {
    "collapsed": true
   },
   "outputs": [],
   "source": [
    "Your code on python to transform (n,61) to (n, 64)\n",
    "raw = mn.io.read_raw_brainvision(\"./data_test\")\n",
    "raw_data = raw.get_data()\n",
    "x_test = something(raw_data)"
   ]
  },
  {
   "cell_type": "markdown",
   "metadata": {},
   "source": [
    "Запуск обученных моделей. Чем меньше score тем лучше"
   ]
  },
  {
   "cell_type": "code",
   "execution_count": null,
   "metadata": {
    "collapsed": true
   },
   "outputs": [],
   "source": [
    "load_encoder = pickle.load(open(\"encoder.p\", \"rb\"))\n",
    "load_decoder = pickle.load(open(\"decoder.p\", \"rb\"))\n",
    "x_reduce = load_encoder.predict(x_test)\n",
    "alpha = x_reduce.shape[1] / 64\n",
    "x_pred = load_decoder.predict(x_reduce)\n",
    "mse = mean_squared_error(x_train, x_test)\n",
    "score = (1 + mse) * alpha\n",
    "if (alpha > 0.9): \n",
    "    score = 100000 #infty\n",
    "print(score)"
   ]
  }
 ],
 "metadata": {
  "kernelspec": {
   "display_name": "Python 3",
   "language": "python",
   "name": "python3"
  },
  "language_info": {
   "codemirror_mode": {
    "name": "ipython",
    "version": 3
   },
   "file_extension": ".py",
   "mimetype": "text/x-python",
   "name": "python",
   "nbconvert_exporter": "python",
   "pygments_lexer": "ipython3",
   "version": "3.6.3"
  }
 },
 "nbformat": 4,
 "nbformat_minor": 2
}
